{
 "cells": [
  {
   "cell_type": "code",
   "execution_count": 1,
   "metadata": {},
   "outputs": [],
   "source": [
    "import pandas as pd"
   ]
  },
  {
   "cell_type": "code",
   "execution_count": 2,
   "metadata": {},
   "outputs": [],
   "source": [
    "data = pd.read_csv ('machine.csv')"
   ]
  },
  {
   "cell_type": "code",
   "execution_count": 3,
   "metadata": {},
   "outputs": [],
   "source": [
    "feature = data.iloc[:,0:7]"
   ]
  },
  {
   "cell_type": "code",
   "execution_count": 4,
   "metadata": {},
   "outputs": [],
   "source": [
    "target = data.iloc[:,7]"
   ]
  },
  {
   "cell_type": "code",
   "execution_count": 5,
   "metadata": {},
   "outputs": [],
   "source": [
    "from sklearn.model_selection import train_test_split"
   ]
  },
  {
   "cell_type": "code",
   "execution_count": 6,
   "metadata": {},
   "outputs": [],
   "source": [
    "feature_train,feature_test,target_train,target_test = train_test_split(feature,target,test_size=0.2)"
   ]
  },
  {
   "cell_type": "code",
   "execution_count": 7,
   "metadata": {},
   "outputs": [],
   "source": [
    "from sklearn.neural_network import MLPRegressor"
   ]
  },
  {
   "cell_type": "code",
   "execution_count": 8,
   "metadata": {},
   "outputs": [],
   "source": [
    "nn=MLPRegressor(max_iter=1000000000, learning_rate_init=0.001)"
   ]
  },
  {
   "cell_type": "code",
   "execution_count": 9,
   "metadata": {
    "scrolled": true
   },
   "outputs": [
    {
     "data": {
      "text/plain": [
       "MLPRegressor(activation='relu', alpha=0.0001, batch_size='auto', beta_1=0.9,\n",
       "       beta_2=0.999, early_stopping=False, epsilon=1e-08,\n",
       "       hidden_layer_sizes=(100,), learning_rate='constant',\n",
       "       learning_rate_init=0.001, max_iter=1000000000, momentum=0.9,\n",
       "       nesterovs_momentum=True, power_t=0.5, random_state=None,\n",
       "       shuffle=True, solver='adam', tol=0.0001, validation_fraction=0.1,\n",
       "       verbose=False, warm_start=False)"
      ]
     },
     "execution_count": 9,
     "metadata": {},
     "output_type": "execute_result"
    }
   ],
   "source": [
    "nn.fit(feature_train,target_train)"
   ]
  },
  {
   "cell_type": "code",
   "execution_count": 10,
   "metadata": {},
   "outputs": [],
   "source": [
    "target_pred = nn.predict(feature_test)"
   ]
  },
  {
   "cell_type": "code",
   "execution_count": 11,
   "metadata": {
    "scrolled": true
   },
   "outputs": [
    {
     "name": "stdout",
     "output_type": "stream",
     "text": [
      "target_test= 32 & target_pred= 80.58575278541224\n",
      "target_test= 24 & target_pred= -40.91947293477577\n",
      "target_test= 34 & target_pred= -45.47569239732178\n",
      "target_test= 47 & target_pred= 50.82555498423079\n",
      "target_test= 53 & target_pred= 32.41125029334779\n",
      "target_test= 31 & target_pred= 81.39337582132504\n",
      "target_test= 18 & target_pred= -5.261982163732755\n",
      "target_test= 34 & target_pred= -45.65362946571065\n",
      "target_test= 18 & target_pred= -19.060258470484168\n",
      "target_test= 381 & target_pred= 733.2430427573203\n",
      "target_test= 25 & target_pred= -19.30695108192805\n",
      "target_test= 26 & target_pred= 23.084235171060012\n",
      "target_test= 34 & target_pred= -45.587192915353626\n",
      "target_test= 30 & target_pred= 22.905872443211248\n",
      "target_test= 43 & target_pred= 57.51474127955777\n",
      "target_test= 64 & target_pred= 180.48170694259\n",
      "target_test= 46 & target_pred= 68.72619918768282\n",
      "target_test= 22 & target_pred= -26.02389576333832\n",
      "target_test= 29 & target_pred= 22.63133654045279\n",
      "target_test= 88 & target_pred= 171.01431328779609\n",
      "target_test= 47 & target_pred= 6.147359581245324\n",
      "target_test= 603 & target_pred= 699.5183070035504\n",
      "target_test= 54 & target_pred= 101.48697183125284\n",
      "target_test= 113 & target_pred= 159.4708707744196\n",
      "target_test= 74 & target_pred= 172.6529037240516\n",
      "target_test= 28 & target_pred= -67.8028020620931\n",
      "target_test= 33 & target_pred= 24.122140728774777\n",
      "target_test= 30 & target_pred= 11.813707527464087\n",
      "target_test= 74 & target_pred= 72.76515724924411\n",
      "target_test= 275 & target_pred= 240.2354253727343\n",
      "target_test= 34 & target_pred= -45.531442656337845\n",
      "target_test= 59 & target_pred= 117.61535734972597\n",
      "target_test= 381 & target_pred= 728.6177663190141\n",
      "target_test= 25 & target_pred= 13.526880632987654\n",
      "target_test= 35 & target_pred= 53.61458388973645\n",
      "target_test= 41 & target_pred= 48.20059740428263\n",
      "target_test= 47 & target_pred= 181.4228650078145\n",
      "target_test= 23 & target_pred= -9.042840248854391\n",
      "target_test= 75 & target_pred= 41.57549563405678\n",
      "target_test= 266 & target_pred= 237.09352471963155\n",
      "target_test= 19 & target_pred= 9.00701342774016\n",
      "target_test= 23 & target_pred= -18.062101766754186\n"
     ]
    }
   ],
   "source": [
    "for x,y in zip(target_test,target_pred):\n",
    "    print(\"target_test= \"+str(x)+\" & target_pred= \"+str(y))"
   ]
  },
  {
   "cell_type": "code",
   "execution_count": 12,
   "metadata": {},
   "outputs": [
    {
     "data": {
      "text/plain": [
       "0.3822772213948782"
      ]
     },
     "execution_count": 12,
     "metadata": {},
     "output_type": "execute_result"
    }
   ],
   "source": [
    "from sklearn.metrics import r2_score\n",
    "r2_score(target_test,target_pred)"
   ]
  },
  {
   "cell_type": "code",
   "execution_count": 14,
   "metadata": {},
   "outputs": [
    {
     "data": {
      "image/png": "[encoded data removed]",
      "text/plain": [
       "<Figure size 432x288 with 1 Axes>"
      ]
     },
     "metadata": {},
     "output_type": "display_data"
    }
   ],
   "source": [
    "import matplotlib.pyplot as plt\n",
    "plt.scatter(range(target_pred.size),target_pred-target_test,color=\"b\")\n",
    "plt.axhline()\n",
    "plt.show()"
   ]
  }
 ],
 "metadata": {
  "kernelspec": {
   "display_name": "Python 3",
   "language": "python",
   "name": "python3"
  },
  "language_info": {
   "codemirror_mode": {
    "name": "ipython",
    "version": 3
   },
   "file_extension": ".py",
   "mimetype": "text/x-python",
   "name": "python",
   "nbconvert_exporter": "python",
   "pygments_lexer": "ipython3",
   "version": "3.6.5"
  }
 },
 "nbformat": 4,
 "nbformat_minor": 2
}
